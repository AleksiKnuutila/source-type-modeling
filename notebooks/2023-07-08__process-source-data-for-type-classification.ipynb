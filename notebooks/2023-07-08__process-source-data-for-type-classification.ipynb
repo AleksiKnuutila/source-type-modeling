{
 "cells": [
  {
   "cell_type": "code",
   "execution_count": 73,
   "id": "e84331b1",
   "metadata": {},
   "outputs": [],
   "source": [
    "def fix_quote_type(sent):    \n",
    "    CLEANR = re.compile('<.*?>')\n",
    "    def cleanhtml(raw_html):\n",
    "        cleantext = re.sub(CLEANR, '', raw_html)\n",
    "        return cleantext\n",
    "    \n",
    "    def normalize(text):\n",
    "        text = '' if pd.isnull(text) else text\n",
    "        text = re.sub('\\\\s+', ' ', text)\n",
    "        return cleanhtml(unidecode(text).strip())\n",
    "    \n",
    "    quote_type_mapper = {\n",
    "        '': 'No Quote',\n",
    "        'BACKGROUND': 'Background/Narrative',\n",
    "        'NARRATIVE': 'Background/Narrative',\n",
    "        'PUBLIC SPEECH, NOT TO JOURNO': 'Statement/Public Speech',\n",
    "        'STATEMENT': 'Statement/Public Speech',\n",
    "        'COMMUNICATION, NOT TO JOURNO': 'Email/Social Media Post',\n",
    "        'LAWSUIT': 'Court Proceeding',\n",
    "        'TWEET': 'Email/Social Media Post',\n",
    "        'SOCIAL MEDIA POST': 'Email/Social Media Post',        \n",
    "        'PROPOSAL': 'Proposal/Order/Law',\n",
    "        'Other: LAWSUIT': 'Court Proceeding',\n",
    "        'Other: Evaluation': 'Quote',\n",
    "        'Other: DIRECT OBSERVATION': 'Direct Observation',\n",
    "        'Other: Campaign filing': 'Published Work/Press Report',\n",
    "        'Other: VOTE/POLL': 'Vote/Poll',\n",
    "        'Other: PROPOSAL': 'Proposal/Order/Law',\n",
    "        'Other: Campaign Filing': 'Published Work/Press Report',\n",
    "        'Other: Data analysis': 'Direct Observation',\n",
    "        'Other: Analysis': 'Direct Observation',\n",
    "        'Other: LAW': 'Proposal/Order/Law',\n",
    "        'Other: Investigation': 'Direct Observation',\n",
    "        'Other: Database': 'Published Work/Press Report',\n",
    "        'Other: Data Analysis': 'Direct Observation',\n",
    "        'DOCUMENT': 'Published Work/Press Report',\n",
    "        'PRESS REPORT': 'Published Work/Press Report',\n",
    "        'PUBLISHED WORK': 'Published Work/Press Report',        \n",
    "    }\n",
    "    other_cats = {\n",
    "        'Other: Cannot Determine': 'Other',\n",
    "        'Quote': 'Other', \n",
    "        'VOTE/POLL': 'Other',\n",
    "        'Vote/Poll':'Other',\n",
    "        'Declined Comment': 'Other',\n",
    "        'PRICE SIGNAL': 'Other',\n",
    "        'DECLINED COMMENT': 'Other'\n",
    "    }\n",
    "    q = sent.get('quote_type', '')\n",
    "    q = quote_type_mapper.get(q, q)\n",
    "    q = other_cats.get(q, q )\n",
    "    if (q == 'QUOTE'):\n",
    "        if ('\\\"' in normalize(sent['sent'])):\n",
    "            return 'Indirect Quote'\n",
    "        else:\n",
    "            return 'Direct Quote'\n",
    "    return q.title() if pd.notnull(q) else q"
   ]
  },
  {
   "cell_type": "code",
   "execution_count": 74,
   "id": "565bb92f",
   "metadata": {},
   "outputs": [],
   "source": [
    "from unidecode import unidecode\n",
    "import jsonlines\n",
    "from tqdm import tqdm\n",
    "\n",
    "import sys\n",
    "sys.path.insert(0, '../../source-exploration/scripts/')\n",
    "import prep_data_stage2 as p \n",
    "\n",
    "import pandas as pd\n",
    "import re\n",
    "import glob\n",
    "\n",
    "CLEANR = re.compile('<.*?>')\n",
    "def cleanhtml(raw_html):\n",
    "    cleantext = re.sub(CLEANR, '', raw_html)\n",
    "    return cleantext\n",
    "\n",
    "def process_one_doc(one_doc_df):\n",
    "    output_data = []\n",
    "    one_doc_df['sent'] = one_doc_df['sent'].apply(cleanhtml)\n",
    "    one_doc_df['label'] = (\n",
    "        one_doc_df\n",
    "             .fillna('')\n",
    "             .apply(lambda x: (unidecode(x['sent']) != '\"') and (len(x['sent']) > 2), axis=1)\n",
    "    )\n",
    "    return one_doc_df\n",
    "\n",
    "input_files = glob.glob('../../source-exploration/app/data/input_data/*/*')\n",
    "checked_files = glob.glob('../../source-exploration/app/data/checked_data_affil-role/*/*')\n",
    "alex_annotated_files = glob.glob('../../source-exploration/app/data/output_data_affil-role/*/*')\n",
    "james_annotated_files = glob.glob('../../source-exploration/app/data/output_data_affil-role_james/*')\n",
    "\n",
    "# dedup\n",
    "alex_annotated_set = set(map(lambda x: x.split('/')[-1], alex_annotated_files))\n",
    "james_annotated_files = list(filter(lambda x: x.split('/')[-1] not in alex_annotated_set, james_annotated_files))\n",
    "\n",
    "all_sources = p.get_all_annot_input_file_pairs(\n",
    "    alex_annotated_files + james_annotated_files, checked_files, input_files\n",
    ")"
   ]
  },
  {
   "cell_type": "code",
   "execution_count": 75,
   "id": "e4114a65",
   "metadata": {},
   "outputs": [],
   "source": [
    "all_sources_df = pd.concat(all_sources).pipe(process_one_doc)"
   ]
  },
  {
   "cell_type": "code",
   "execution_count": 76,
   "id": "a5457e65",
   "metadata": {},
   "outputs": [],
   "source": [
    "all_sources_df['quote_type'] = all_sources_df.apply(fix_quote_type, axis=1)"
   ]
  },
  {
   "cell_type": "markdown",
   "id": "34b4156b",
   "metadata": {},
   "source": [
    "# Model with SKLearn"
   ]
  },
  {
   "cell_type": "code",
   "execution_count": 11,
   "id": "4b42217f",
   "metadata": {},
   "outputs": [],
   "source": [
    "from sklearn.pipeline import Pipeline\n",
    "from sklearn.feature_extraction.text import CountVectorizer\n",
    "from sklearn.linear_model import LogisticRegression\n",
    "from sklearn.model_selection import train_test_split\n",
    "from sklearn.metrics import f1_score, confusion_matrix\n",
    "import seaborn as sns"
   ]
  },
  {
   "cell_type": "markdown",
   "id": "129efef8",
   "metadata": {},
   "source": [
    "### Quote type"
   ]
  },
  {
   "cell_type": "code",
   "execution_count": 13,
   "id": "34cbbdc3",
   "metadata": {},
   "outputs": [],
   "source": [
    "lr_pipe = Pipeline([\n",
    "    ('cv', CountVectorizer(min_df=.001, max_df=.4, stop_words='english')),\n",
    "    ('lr', LogisticRegression(max_iter=5000))\n",
    "])"
   ]
  },
  {
   "cell_type": "code",
   "execution_count": 22,
   "id": "0ccb7fb9",
   "metadata": {},
   "outputs": [],
   "source": [
    "quote_type_df = all_sources_df.loc[lambda df: df['quote_type'] != 'No Quote'].dropna()  #.groupby('doc_id')[['sent', 'quote_type']]"
   ]
  },
  {
   "cell_type": "code",
   "execution_count": 24,
   "id": "e1f158c8",
   "metadata": {},
   "outputs": [],
   "source": [
    "train_docs, test_docs = train_test_split(\n",
    "    quote_type_df['doc_id'].drop_duplicates().tolist(), test_size=.1)"
   ]
  },
  {
   "cell_type": "code",
   "execution_count": 25,
   "id": "7a090f9f",
   "metadata": {},
   "outputs": [],
   "source": [
    "train_df = quote_type_df.loc[lambda df: df['doc_id'].isin(train_docs)]\n",
    "test_df = quote_type_df.loc[lambda df: df['doc_id'].isin(test_docs)]"
   ]
  },
  {
   "cell_type": "code",
   "execution_count": 26,
   "id": "6c11f940",
   "metadata": {
    "scrolled": true
   },
   "outputs": [
    {
     "data": {
      "text/html": [
       "<style>#sk-container-id-1 {color: black;background-color: white;}#sk-container-id-1 pre{padding: 0;}#sk-container-id-1 div.sk-toggleable {background-color: white;}#sk-container-id-1 label.sk-toggleable__label {cursor: pointer;display: block;width: 100%;margin-bottom: 0;padding: 0.3em;box-sizing: border-box;text-align: center;}#sk-container-id-1 label.sk-toggleable__label-arrow:before {content: \"▸\";float: left;margin-right: 0.25em;color: #696969;}#sk-container-id-1 label.sk-toggleable__label-arrow:hover:before {color: black;}#sk-container-id-1 div.sk-estimator:hover label.sk-toggleable__label-arrow:before {color: black;}#sk-container-id-1 div.sk-toggleable__content {max-height: 0;max-width: 0;overflow: hidden;text-align: left;background-color: #f0f8ff;}#sk-container-id-1 div.sk-toggleable__content pre {margin: 0.2em;color: black;border-radius: 0.25em;background-color: #f0f8ff;}#sk-container-id-1 input.sk-toggleable__control:checked~div.sk-toggleable__content {max-height: 200px;max-width: 100%;overflow: auto;}#sk-container-id-1 input.sk-toggleable__control:checked~label.sk-toggleable__label-arrow:before {content: \"▾\";}#sk-container-id-1 div.sk-estimator input.sk-toggleable__control:checked~label.sk-toggleable__label {background-color: #d4ebff;}#sk-container-id-1 div.sk-label input.sk-toggleable__control:checked~label.sk-toggleable__label {background-color: #d4ebff;}#sk-container-id-1 input.sk-hidden--visually {border: 0;clip: rect(1px 1px 1px 1px);clip: rect(1px, 1px, 1px, 1px);height: 1px;margin: -1px;overflow: hidden;padding: 0;position: absolute;width: 1px;}#sk-container-id-1 div.sk-estimator {font-family: monospace;background-color: #f0f8ff;border: 1px dotted black;border-radius: 0.25em;box-sizing: border-box;margin-bottom: 0.5em;}#sk-container-id-1 div.sk-estimator:hover {background-color: #d4ebff;}#sk-container-id-1 div.sk-parallel-item::after {content: \"\";width: 100%;border-bottom: 1px solid gray;flex-grow: 1;}#sk-container-id-1 div.sk-label:hover label.sk-toggleable__label {background-color: #d4ebff;}#sk-container-id-1 div.sk-serial::before {content: \"\";position: absolute;border-left: 1px solid gray;box-sizing: border-box;top: 0;bottom: 0;left: 50%;z-index: 0;}#sk-container-id-1 div.sk-serial {display: flex;flex-direction: column;align-items: center;background-color: white;padding-right: 0.2em;padding-left: 0.2em;position: relative;}#sk-container-id-1 div.sk-item {position: relative;z-index: 1;}#sk-container-id-1 div.sk-parallel {display: flex;align-items: stretch;justify-content: center;background-color: white;position: relative;}#sk-container-id-1 div.sk-item::before, #sk-container-id-1 div.sk-parallel-item::before {content: \"\";position: absolute;border-left: 1px solid gray;box-sizing: border-box;top: 0;bottom: 0;left: 50%;z-index: -1;}#sk-container-id-1 div.sk-parallel-item {display: flex;flex-direction: column;z-index: 1;position: relative;background-color: white;}#sk-container-id-1 div.sk-parallel-item:first-child::after {align-self: flex-end;width: 50%;}#sk-container-id-1 div.sk-parallel-item:last-child::after {align-self: flex-start;width: 50%;}#sk-container-id-1 div.sk-parallel-item:only-child::after {width: 0;}#sk-container-id-1 div.sk-dashed-wrapped {border: 1px dashed gray;margin: 0 0.4em 0.5em 0.4em;box-sizing: border-box;padding-bottom: 0.4em;background-color: white;}#sk-container-id-1 div.sk-label label {font-family: monospace;font-weight: bold;display: inline-block;line-height: 1.2em;}#sk-container-id-1 div.sk-label-container {text-align: center;}#sk-container-id-1 div.sk-container {/* jupyter's `normalize.less` sets `[hidden] { display: none; }` but bootstrap.min.css set `[hidden] { display: none !important; }` so we also need the `!important` here to be able to override the default hidden behavior on the sphinx rendered scikit-learn.org. See: https://github.com/scikit-learn/scikit-learn/issues/21755 */display: inline-block !important;position: relative;}#sk-container-id-1 div.sk-text-repr-fallback {display: none;}</style><div id=\"sk-container-id-1\" class=\"sk-top-container\"><div class=\"sk-text-repr-fallback\"><pre>Pipeline(steps=[(&#x27;cv&#x27;,\n",
       "                 CountVectorizer(max_df=0.4, min_df=0.001,\n",
       "                                 stop_words=&#x27;english&#x27;)),\n",
       "                (&#x27;lr&#x27;, LogisticRegression(max_iter=5000))])</pre><b>In a Jupyter environment, please rerun this cell to show the HTML representation or trust the notebook. <br />On GitHub, the HTML representation is unable to render, please try loading this page with nbviewer.org.</b></div><div class=\"sk-container\" hidden><div class=\"sk-item sk-dashed-wrapped\"><div class=\"sk-label-container\"><div class=\"sk-label sk-toggleable\"><input class=\"sk-toggleable__control sk-hidden--visually\" id=\"sk-estimator-id-1\" type=\"checkbox\" ><label for=\"sk-estimator-id-1\" class=\"sk-toggleable__label sk-toggleable__label-arrow\">Pipeline</label><div class=\"sk-toggleable__content\"><pre>Pipeline(steps=[(&#x27;cv&#x27;,\n",
       "                 CountVectorizer(max_df=0.4, min_df=0.001,\n",
       "                                 stop_words=&#x27;english&#x27;)),\n",
       "                (&#x27;lr&#x27;, LogisticRegression(max_iter=5000))])</pre></div></div></div><div class=\"sk-serial\"><div class=\"sk-item\"><div class=\"sk-estimator sk-toggleable\"><input class=\"sk-toggleable__control sk-hidden--visually\" id=\"sk-estimator-id-2\" type=\"checkbox\" ><label for=\"sk-estimator-id-2\" class=\"sk-toggleable__label sk-toggleable__label-arrow\">CountVectorizer</label><div class=\"sk-toggleable__content\"><pre>CountVectorizer(max_df=0.4, min_df=0.001, stop_words=&#x27;english&#x27;)</pre></div></div></div><div class=\"sk-item\"><div class=\"sk-estimator sk-toggleable\"><input class=\"sk-toggleable__control sk-hidden--visually\" id=\"sk-estimator-id-3\" type=\"checkbox\" ><label for=\"sk-estimator-id-3\" class=\"sk-toggleable__label sk-toggleable__label-arrow\">LogisticRegression</label><div class=\"sk-toggleable__content\"><pre>LogisticRegression(max_iter=5000)</pre></div></div></div></div></div></div></div>"
      ],
      "text/plain": [
       "Pipeline(steps=[('cv',\n",
       "                 CountVectorizer(max_df=0.4, min_df=0.001,\n",
       "                                 stop_words='english')),\n",
       "                ('lr', LogisticRegression(max_iter=5000))])"
      ]
     },
     "execution_count": 26,
     "metadata": {},
     "output_type": "execute_result"
    }
   ],
   "source": [
    "lr_pipe.fit(X=train_df['sent'], y=train_df['quote_type'])"
   ]
  },
  {
   "cell_type": "code",
   "execution_count": 27,
   "id": "ee1004db",
   "metadata": {},
   "outputs": [],
   "source": [
    "y_pred = lr_pipe.predict(test_df['sent'])"
   ]
  },
  {
   "cell_type": "code",
   "execution_count": 30,
   "id": "631c9de4",
   "metadata": {},
   "outputs": [
    {
     "data": {
      "text/plain": [
       "0.29278373388399637"
      ]
     },
     "execution_count": 30,
     "metadata": {},
     "output_type": "execute_result"
    }
   ],
   "source": [
    "f1_score(y_pred, test_df['quote_type'], average='macro')"
   ]
  },
  {
   "cell_type": "code",
   "execution_count": 32,
   "id": "49ad5a4b",
   "metadata": {},
   "outputs": [],
   "source": [
    "l = test_df['quote_type'].drop_duplicates().sort_values()\n",
    "c_matrix = confusion_matrix(\n",
    "    test_df['quote_type'], y_pred, labels=l\n",
    ")"
   ]
  },
  {
   "cell_type": "code",
   "execution_count": 35,
   "id": "89bc2d76",
   "metadata": {},
   "outputs": [],
   "source": [
    "c_mat_df = pd.DataFrame(c_matrix, index=l, columns=l)"
   ]
  },
  {
   "cell_type": "code",
   "execution_count": 42,
   "id": "81567cee",
   "metadata": {},
   "outputs": [
    {
     "data": {
      "text/plain": [
       "quote_type\n",
       "Background/Narrative           183\n",
       "Court Proceeding                 3\n",
       "Direct Observation               7\n",
       "Direct Quote                   406\n",
       "Email/Social Media Post         67\n",
       "Indirect Quote                 330\n",
       "Other                           30\n",
       "Proposal/Order/Law              56\n",
       "Published Work/Press Report    135\n",
       "Statement/Public Speech        231\n",
       "dtype: int64"
      ]
     },
     "execution_count": 42,
     "metadata": {},
     "output_type": "execute_result"
    }
   ],
   "source": [
    "c_mat_df.sum(axis=1)"
   ]
  },
  {
   "cell_type": "code",
   "execution_count": 43,
   "id": "7b241c01",
   "metadata": {},
   "outputs": [
    {
     "data": {
      "text/plain": [
       "<Axes: xlabel='quote_type', ylabel='quote_type'>"
      ]
     },
     "execution_count": 43,
     "metadata": {},
     "output_type": "execute_result"
    },
    {
     "data": {
      "image/png": "[encoded data removed]",
      "text/plain": [
       "<Figure size 640x480 with 2 Axes>"
      ]
     },
     "metadata": {},
     "output_type": "display_data"
    }
   ],
   "source": [
    "sns.heatmap(c_mat_df.divide(c_mat_df.sum(axis=1), axis=0))"
   ]
  },
  {
   "cell_type": "code",
   "execution_count": 84,
   "id": "06392665",
   "metadata": {},
   "outputs": [],
   "source": [
    "quote_type_grouped = (\n",
    "    all_sources_df\n",
    "        .dropna()    \n",
    "        .groupby('doc_id')[['sent', 'quote_type']]\n",
    "        .aggregate(list)\n",
    "        .reset_index()\n",
    "        .assign(split=lambda df: df['doc_id'].apply(lambda x: 'train' if x in train_docs else 'test' ))            \n",
    ")"
   ]
  },
  {
   "cell_type": "code",
   "execution_count": 85,
   "id": "3e5f6f46",
   "metadata": {},
   "outputs": [],
   "source": [
    "quote_type_grouped.to_json('../modeling/quote-type-modeling/data/quote-type-data.jsonl', orient='records', lines=True)"
   ]
  },
  {
   "cell_type": "markdown",
   "id": "37e34c44",
   "metadata": {},
   "source": [
    "### Source type"
   ]
  },
  {
   "cell_type": "code",
   "execution_count": 15,
   "id": "67c17af4",
   "metadata": {},
   "outputs": [],
   "source": [
    "doc_split_df = pd.read_json(\n",
    "    '../modeling/quote-type-modeling/data/quote-type-data.jsonl',\n",
    "    orient='records',\n",
    "    lines=True\n",
    ")[['doc_id', 'split']]"
   ]
  },
  {
   "cell_type": "code",
   "execution_count": 16,
   "id": "680ae679",
   "metadata": {},
   "outputs": [],
   "source": [
    "source_type_mapper = {\n",
    "    'Other: Vote/Poll': 'Vote/Poll',\n",
    "    'Other: Database': 'Database',\n",
    "    'Other: author': 'Named Individual',\n",
    "}\n",
    "\n",
    "source_type_grouped = (\n",
    "    all_sources_df\n",
    "        .groupby(['doc_id', 'head'])[['sent', 'source_type']]\n",
    "        .aggregate(list)\n",
    "        .assign(sent=lambda df: df['sent'].str.join(' '))\n",
    "        .assign(source_type=lambda df: df['source_type'].apply(lambda x: list(filter(lambda x: x != '', set(x)))))\n",
    "        .loc[lambda df: df['source_type'].str.len() == 1]\n",
    "        .assign(source_type=lambda df: df['source_type'].str.get(0).apply(lambda x: source_type_mapper.get(x, x)))\n",
    ")\n",
    "\n",
    "source_type_grouped = (\n",
    "    source_type_grouped\n",
    "        .reset_index()\n",
    "        .assign(doc_id=lambda df: df['doc_id'].astype(int))\n",
    "        .merge(doc_split_df, left_on='doc_id', right_on='doc_id')\n",
    ")"
   ]
  },
  {
   "cell_type": "code",
   "execution_count": 17,
   "id": "63c688d9",
   "metadata": {},
   "outputs": [
    {
     "data": {
      "text/plain": [
       "0.39306116573626065"
      ]
     },
     "execution_count": 17,
     "metadata": {},
     "output_type": "execute_result"
    }
   ],
   "source": [
    "train_df = source_type_grouped.loc[lambda df: df['split'] == 'train']\n",
    "test_df = source_type_grouped.loc[lambda df: df['split'] == 'test']\n",
    "\n",
    "lr_pipe.fit(train_df['sent'], train_df['source_type'])\n",
    "y_pred = lr_pipe.predict(test_df['sent'])\n",
    "f1_score(test_df['source_type'], y_pred, average='macro')"
   ]
  },
  {
   "cell_type": "code",
   "execution_count": 18,
   "id": "2a89a47b",
   "metadata": {},
   "outputs": [
    {
     "data": {
      "text/plain": [
       "source_type\n",
       "Named Individual      2021\n",
       "Named Group            770\n",
       "Unnamed Group          741\n",
       "Report/Document        287\n",
       "Unnamed Individual     160\n",
       "Vote/Poll               54\n",
       "Database                12\n",
       "Cannot Determine        11\n",
       "Name: count, dtype: int64"
      ]
     },
     "execution_count": 18,
     "metadata": {},
     "output_type": "execute_result"
    }
   ],
   "source": [
    "train_df['source_type'].value_counts()"
   ]
  },
  {
   "cell_type": "code",
   "execution_count": 37,
   "id": "4bd9f80d",
   "metadata": {},
   "outputs": [],
   "source": [
    "(source_type_grouped\n",
    "     .rename(columns={'source_type': 'label'})\n",
    "     .to_csv('../modeling/source-type-modeling/data/source-type-training-df.csv')\n",
    ")"
   ]
  },
  {
   "cell_type": "markdown",
   "id": "ba4de330",
   "metadata": {},
   "source": [
    "# Affiliation"
   ]
  },
  {
   "cell_type": "code",
   "execution_count": 19,
   "id": "396f2e2d",
   "metadata": {},
   "outputs": [],
   "source": [
    "affiliation_mapper = {\n",
    "    'Other: Mr. Clinton': 'Government',\n",
    "    'Named Individual': 'Government',\n",
    "    'Other: author': 'Cannot Determine'\n",
    "}\n",
    "\n",
    "\n",
    "affiliation_grouped = (\n",
    "    all_sources_df\n",
    "        .groupby(['doc_id', 'head'])[['sent', 'affiliation']]\n",
    "        .aggregate(list)\n",
    "        .assign(sent=lambda df: df['sent'].str.join(' '))\n",
    "        .assign(affiliation=lambda df: df['affiliation'].apply(lambda x: list(filter(lambda x: x != '', set(x)))))\n",
    "        .loc[lambda df: df['affiliation'].str.len() == 1]\n",
    "        .assign(affiliation=lambda df: df['affiliation'].str.get(0).apply(lambda x: affiliation_mapper.get(x, x)))\n",
    ")\n",
    "\n",
    "affiliation_grouped = (\n",
    "    affiliation_grouped\n",
    "        .reset_index()\n",
    "        .assign(doc_id=lambda df: df['doc_id'].astype(int))\n",
    "        .merge(doc_split_df, left_on='doc_id', right_on='doc_id')\n",
    ")"
   ]
  },
  {
   "cell_type": "code",
   "execution_count": 72,
   "id": "03de59b3",
   "metadata": {},
   "outputs": [
    {
     "data": {
      "text/plain": [
       "0.3942643549771071"
      ]
     },
     "execution_count": 72,
     "metadata": {},
     "output_type": "execute_result"
    }
   ],
   "source": [
    "train_df = affiliation_grouped.loc[lambda df: df['split'] == 'train']\n",
    "test_df = affiliation_grouped.loc[lambda df: df['split'] == 'test']\n",
    "\n",
    "lr_pipe.fit(train_df['sent'], train_df['affiliation'])\n",
    "y_pred = lr_pipe.predict(test_df['sent'])\n",
    "f1_score(test_df['affiliation'], y_pred, average='macro')"
   ]
  },
  {
   "cell_type": "code",
   "execution_count": 70,
   "id": "33ac0cfb",
   "metadata": {},
   "outputs": [],
   "source": [
    "(\n",
    "    affiliation_grouped\n",
    "        .rename(columns={'affiliation': 'label'})\n",
    "        .to_csv('../modeling/source-type-modeling/data/affiliation-training-df.csv')\n",
    ")"
   ]
  },
  {
   "cell_type": "code",
   "execution_count": null,
   "id": "58cd3dfb",
   "metadata": {},
   "outputs": [],
   "source": []
  },
  {
   "cell_type": "markdown",
   "id": "6964bd13",
   "metadata": {},
   "source": [
    "# Role"
   ]
  },
  {
   "cell_type": "code",
   "execution_count": 40,
   "id": "240c4bc2",
   "metadata": {},
   "outputs": [],
   "source": [
    "role_mapper = {\n",
    "    'Other: Mr. Clinton': 'Government',\n",
    "    'Named Individual': 'Government',\n",
    "    'Other: author': 'Cannot Determine'\n",
    "}\n",
    "\n",
    "\n",
    "role_grouped = (\n",
    "    all_sources_df\n",
    "        .groupby(['doc_id', 'head'])[['sent', 'role']]\n",
    "        .aggregate(list)\n",
    "        .assign(sent=lambda df: df['sent'].str.join(' '))\n",
    "        .assign(role=lambda df: df['role'].apply(lambda x: list(filter(lambda x: x != '', set(x)))))\n",
    "        .loc[lambda df: df['role'].str.len() == 1]\n",
    "        .assign(role=lambda df: df['role'].str.get(0).apply(lambda x: role_mapper.get(x, x)))\n",
    ")\n",
    "\n",
    "role_grouped = (\n",
    "    role_grouped\n",
    "        .reset_index()\n",
    "        .assign(doc_id=lambda df: df['doc_id'].astype(int))\n",
    "        .merge(doc_split_df, left_on='doc_id', right_on='doc_id')\n",
    ")"
   ]
  },
  {
   "cell_type": "code",
   "execution_count": 41,
   "id": "62370534",
   "metadata": {},
   "outputs": [
    {
     "data": {
      "text/plain": [
       "0.5078362104954995"
      ]
     },
     "execution_count": 41,
     "metadata": {},
     "output_type": "execute_result"
    }
   ],
   "source": [
    "train_df = role_grouped.loc[lambda df: df['split'] == 'train']\n",
    "test_df = role_grouped.loc[lambda df: df['split'] == 'test']\n",
    "\n",
    "lr_pipe.fit(train_df['sent'], train_df['role'])\n",
    "y_pred = lr_pipe.predict(test_df['sent'])\n",
    "f1_score(test_df['role'], y_pred, average='macro')"
   ]
  },
  {
   "cell_type": "code",
   "execution_count": 44,
   "id": "7eec996b",
   "metadata": {},
   "outputs": [],
   "source": [
    "(\n",
    "    role_grouped\n",
    "        .rename(columns={'role': 'label'})\n",
    "        .to_csv('../modeling/source-type-modeling/data/role-training-df.csv')\n",
    ")"
   ]
  },
  {
   "cell_type": "code",
   "execution_count": 49,
   "id": "9513ebb1",
   "metadata": {},
   "outputs": [
    {
     "data": {
      "text/plain": [
       "{'Decision Maker': 0,\n",
       " 'Cannot Determine': 1,\n",
       " 'Participant': 2,\n",
       " 'Informational': 3,\n",
       " 'Representative': 4}"
      ]
     },
     "execution_count": 49,
     "metadata": {},
     "output_type": "execute_result"
    }
   ],
   "source": [
    "{v:i for i, v in enumerate(list(set(role_grouped['role'])))}"
   ]
  },
  {
   "cell_type": "code",
   "execution_count": 52,
   "id": "7f5b9f07",
   "metadata": {},
   "outputs": [
    {
     "data": {
      "text/plain": [
       "{'Witness': 0,\n",
       " 'Actor': 1,\n",
       " 'Academic': 2,\n",
       " 'Cannot Determine': 3,\n",
       " 'Political Group': 4,\n",
       " 'Other Group': 5,\n",
       " 'Religious Group': 6,\n",
       " 'NGO': 7,\n",
       " 'Victim': 8,\n",
       " 'Media': 9,\n",
       " 'Industry Group': 10,\n",
       " 'Government': 11,\n",
       " 'Union': 12,\n",
       " 'Corporate': 13}"
      ]
     },
     "execution_count": 52,
     "metadata": {},
     "output_type": "execute_result"
    }
   ],
   "source": [
    "{v:i for i, v in enumerate(list(set(affiliation_grouped['affiliation'])))} "
   ]
  },
  {
   "cell_type": "code",
   "execution_count": 54,
   "id": "e454a150",
   "metadata": {},
   "outputs": [
    {
     "data": {
      "text/plain": [
       "{'Cannot Determine': 0,\n",
       " 'Report/Document': 1,\n",
       " 'Named Individual': 2,\n",
       " 'Unnamed Individual': 3,\n",
       " 'Database': 4,\n",
       " 'Unnamed Group': 5,\n",
       " 'Named Group': 6,\n",
       " 'Vote/Poll': 7}"
      ]
     },
     "execution_count": 54,
     "metadata": {},
     "output_type": "execute_result"
    }
   ],
   "source": [
    "{v:i for i, v in enumerate(list(set(source_type_grouped['source_type'])))} "
   ]
  },
  {
   "cell_type": "code",
   "execution_count": 57,
   "id": "8850918b",
   "metadata": {},
   "outputs": [],
   "source": [
    "from transformers import AutoTokenizer"
   ]
  },
  {
   "cell_type": "code",
   "execution_count": 60,
   "id": "452d3f2b",
   "metadata": {},
   "outputs": [],
   "source": [
    "tok = AutoTokenizer.from_pretrained('roberta-base')"
   ]
  },
  {
   "cell_type": "code",
   "execution_count": 61,
   "id": "3bf2157d",
   "metadata": {},
   "outputs": [
    {
     "data": {
      "text/plain": [
       "1"
      ]
     },
     "execution_count": 61,
     "metadata": {},
     "output_type": "execute_result"
    }
   ],
   "source": [
    "tok.pad_token_id"
   ]
  },
  {
   "cell_type": "code",
   "execution_count": null,
   "id": "bb871d72",
   "metadata": {},
   "outputs": [],
   "source": []
  },
  {
   "cell_type": "markdown",
   "id": "3989313c",
   "metadata": {},
   "source": [
    "# Test loading models"
   ]
  },
  {
   "cell_type": "code",
   "execution_count": 86,
   "id": "30830128",
   "metadata": {},
   "outputs": [],
   "source": [
    "# from transformers import AutoModel\n",
    "import sys"
   ]
  },
  {
   "cell_type": "code",
   "execution_count": 93,
   "id": "ca2d589a",
   "metadata": {},
   "outputs": [],
   "source": [
    "sys.path.insert(0, '../modeling/quote-type-modeling/src')\n",
    "from sentence_model import SentenceClassificationModel as QuoteTypeSentenceModel"
   ]
  },
  {
   "cell_type": "code",
   "execution_count": 5,
   "id": "77107efd",
   "metadata": {},
   "outputs": [],
   "source": [
    "import sys\n",
    "sys.path.insert(0, '../../source-exploration/tasks/quote_attribution/other_platforms/span-detection-approaches/')\n",
    "from qa_model import QAModel"
   ]
  },
  {
   "cell_type": "code",
   "execution_count": 92,
   "id": "03ef35f5",
   "metadata": {},
   "outputs": [],
   "source": [
    "quote_type_model = SentenceClassificationModel.from_pretrained('alex2awesome/quote-type-sentence-model')"
   ]
  },
  {
   "cell_type": "code",
   "execution_count": null,
   "id": "62fd252a",
   "metadata": {},
   "outputs": [],
   "source": []
  },
  {
   "cell_type": "code",
   "execution_count": null,
   "id": "14c92a0e",
   "metadata": {},
   "outputs": [],
   "source": []
  },
  {
   "cell_type": "code",
   "execution_count": null,
   "id": "6cd7d7ce",
   "metadata": {},
   "outputs": [],
   "source": []
  },
  {
   "cell_type": "code",
   "execution_count": null,
   "id": "eeee1e3f",
   "metadata": {},
   "outputs": [],
   "source": []
  },
  {
   "cell_type": "code",
   "execution_count": null,
   "id": "c51802d1",
   "metadata": {},
   "outputs": [],
   "source": []
  },
  {
   "cell_type": "code",
   "execution_count": null,
   "id": "a0774f46",
   "metadata": {},
   "outputs": [],
   "source": []
  }
 ],
 "metadata": {
  "hide_input": false,
  "kernelspec": {
   "display_name": "Python 3 (ipykernel)",
   "language": "python",
   "name": "python3"
  },
  "language_info": {
   "codemirror_mode": {
    "name": "ipython",
    "version": 3
   },
   "file_extension": ".py",
   "mimetype": "text/x-python",
   "name": "python",
   "nbconvert_exporter": "python",
   "pygments_lexer": "ipython3",
   "version": "3.10.11"
  }
 },
 "nbformat": 4,
 "nbformat_minor": 5
}
